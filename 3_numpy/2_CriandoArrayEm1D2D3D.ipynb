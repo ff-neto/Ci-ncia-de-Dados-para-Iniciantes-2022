{
 "cells": [
  {
   "cell_type": "code",
   "execution_count": 1,
   "id": "bfa20f14-aaa0-4509-b919-99b69d181322",
   "metadata": {},
   "outputs": [],
   "source": [
    "import numpy as np"
   ]
  },
  {
   "cell_type": "code",
   "execution_count": 2,
   "id": "85082e12-de05-4191-aae4-3e57f40f8329",
   "metadata": {},
   "outputs": [
    {
     "name": "stdout",
     "output_type": "stream",
     "text": [
      "[1 2 3]\n"
     ]
    }
   ],
   "source": [
    "# Array 1D\n",
    "d1 = np.array([1, 2, 3])\n",
    "\n",
    "print(d1)"
   ]
  },
  {
   "cell_type": "code",
   "execution_count": 3,
   "id": "1ee8119d-34f2-46b9-abf0-7ffdc32a8b0b",
   "metadata": {},
   "outputs": [
    {
     "data": {
      "text/plain": [
       "(3,)"
      ]
     },
     "execution_count": 3,
     "metadata": {},
     "output_type": "execute_result"
    }
   ],
   "source": [
    "# -----------------------------------------------------\n",
    "# Qual é o formato do arry?\n",
    "d1.shape"
   ]
  },
  {
   "cell_type": "code",
   "execution_count": 4,
   "id": "46ff15eb-f612-4a9d-8ebe-9e95cb0c3990",
   "metadata": {},
   "outputs": [
    {
     "data": {
      "text/plain": [
       "1"
      ]
     },
     "execution_count": 4,
     "metadata": {},
     "output_type": "execute_result"
    }
   ],
   "source": [
    "# Quantas dimenções é o arry?\n",
    "d1.ndim\n"
   ]
  },
  {
   "cell_type": "code",
   "execution_count": 5,
   "id": "ba8ffb56-5f2e-4c2e-b3f3-39fc1ffdaad4",
   "metadata": {},
   "outputs": [
    {
     "data": {
      "text/plain": [
       "dtype('int64')"
      ]
     },
     "execution_count": 5,
     "metadata": {},
     "output_type": "execute_result"
    }
   ],
   "source": [
    "# O tipo do arry?\n",
    "d1.dtype"
   ]
  },
  {
   "cell_type": "code",
   "execution_count": 6,
   "id": "0678e9de-2dac-4f9a-b989-ba5d35d32982",
   "metadata": {},
   "outputs": [
    {
     "name": "stdout",
     "output_type": "stream",
     "text": [
      "[[1 2 3]\n",
      " [4 5 6]]\n"
     ]
    }
   ],
   "source": [
    "# -----------------------------------------------------\n",
    "# Array 2D\n",
    "d2 = np.array([[1, 2, 3], [4, 5, 6]])\n",
    "\n",
    "print(d2)"
   ]
  },
  {
   "cell_type": "code",
   "execution_count": 7,
   "id": "06a57c0a-bda5-4e48-99fd-12bb1a386740",
   "metadata": {},
   "outputs": [
    {
     "data": {
      "text/plain": [
       "(2, 3)"
      ]
     },
     "execution_count": 7,
     "metadata": {},
     "output_type": "execute_result"
    }
   ],
   "source": [
    "# -----------------------------------------------------\n",
    "# Qual é o formato do arry?\n",
    "d2.shape"
   ]
  },
  {
   "cell_type": "code",
   "execution_count": 8,
   "id": "45c93a6d-fcfe-40dd-b6ad-798cbf806e95",
   "metadata": {},
   "outputs": [
    {
     "data": {
      "text/plain": [
       "2"
      ]
     },
     "execution_count": 8,
     "metadata": {},
     "output_type": "execute_result"
    }
   ],
   "source": [
    "# Quantas dimenções é o arry?\n",
    "d2.ndim"
   ]
  },
  {
   "cell_type": "code",
   "execution_count": 9,
   "id": "893c7fe7-24a9-46c5-8b86-b0adf97dcfdf",
   "metadata": {},
   "outputs": [
    {
     "data": {
      "text/plain": [
       "dtype('int64')"
      ]
     },
     "execution_count": 9,
     "metadata": {},
     "output_type": "execute_result"
    }
   ],
   "source": [
    "# O tipo do arry?\n",
    "d2.dtype"
   ]
  },
  {
   "cell_type": "code",
   "execution_count": 10,
   "id": "f3ff7ab5-3088-4546-ae61-ecbfe10169df",
   "metadata": {},
   "outputs": [
    {
     "name": "stdout",
     "output_type": "stream",
     "text": [
      "[[[ 1  2  3]\n",
      "  [ 4  5  6]]\n",
      "\n",
      " [[ 7  8  9]\n",
      "  [10 11 12]]]\n"
     ]
    }
   ],
   "source": [
    "# -----------------------------------------------------\n",
    "# Array 3D\n",
    "d3 = np.array([[[1, 2, 3], [4, 5, 6]], [[7, 8, 9], [10, 11, 12]]])\n",
    "\n",
    "print(d3)"
   ]
  },
  {
   "cell_type": "code",
   "execution_count": 11,
   "id": "b2321847-a53c-45aa-9e68-2e31b4039b5d",
   "metadata": {},
   "outputs": [
    {
     "data": {
      "text/plain": [
       "(2, 2, 3)"
      ]
     },
     "execution_count": 11,
     "metadata": {},
     "output_type": "execute_result"
    }
   ],
   "source": [
    "# -----------------------------------------------------\n",
    "# Qual é o formato do arry?\n",
    "d3.shape"
   ]
  },
  {
   "cell_type": "code",
   "execution_count": 12,
   "id": "a1905396-0334-49c8-968c-2a53123cb354",
   "metadata": {},
   "outputs": [
    {
     "data": {
      "text/plain": [
       "3"
      ]
     },
     "execution_count": 12,
     "metadata": {},
     "output_type": "execute_result"
    }
   ],
   "source": [
    "# Quantas dimenções é o arry?\n",
    "d3.ndim"
   ]
  },
  {
   "cell_type": "code",
   "execution_count": 13,
   "id": "4af1208a-2839-415e-ae01-02cdaf2d821e",
   "metadata": {},
   "outputs": [
    {
     "data": {
      "text/plain": [
       "dtype('int64')"
      ]
     },
     "execution_count": 13,
     "metadata": {},
     "output_type": "execute_result"
    }
   ],
   "source": [
    "\n",
    "# O tipo do arry?\n",
    "d3.dtype"
   ]
  }
 ],
 "metadata": {
  "kernelspec": {
   "display_name": "Python 3 (ipykernel)",
   "language": "python",
   "name": "python3"
  },
  "language_info": {
   "codemirror_mode": {
    "name": "ipython",
    "version": 3
   },
   "file_extension": ".py",
   "mimetype": "text/x-python",
   "name": "python",
   "nbconvert_exporter": "python",
   "pygments_lexer": "ipython3",
   "version": "3.10.6"
  }
 },
 "nbformat": 4,
 "nbformat_minor": 5
}
