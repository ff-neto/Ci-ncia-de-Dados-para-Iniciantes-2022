{
 "cells": [
  {
   "cell_type": "code",
   "execution_count": 1,
   "id": "f3bc419e-3b0e-45ae-bf05-5047a333f979",
   "metadata": {},
   "outputs": [],
   "source": [
    "import pandas as pd"
   ]
  },
  {
   "cell_type": "code",
   "execution_count": 2,
   "id": "aaf2bcb8-c407-40f6-8420-c4c2a6e1e595",
   "metadata": {},
   "outputs": [],
   "source": [
    "# -----------------------------------------------------\n",
    "# Ler um arquivo texto (csv)\n",
    "dados_csv = pd.read_csv('fifa.csv')"
   ]
  },
  {
   "cell_type": "code",
   "execution_count": 3,
   "id": "66d2af17-115c-4d92-8472-72ab474f0a76",
   "metadata": {},
   "outputs": [],
   "source": [
    "# -----------------------------------------------------\n",
    "# Salvar os dados em csv e retirando o index\n",
    "dados_csv.to_csv('dados1.csv', index = False)"
   ]
  },
  {
   "cell_type": "code",
   "execution_count": 4,
   "id": "b11597d7-64b3-4187-83ee-bdfafd9c412d",
   "metadata": {},
   "outputs": [],
   "source": [
    "# Salvar os dados em excel e retirando o index\n",
    "dados_csv.to_excel('dados2.xlsx', index = False)"
   ]
  },
  {
   "cell_type": "code",
   "execution_count": 5,
   "id": "ae2f5a7e-7bdc-42a6-80fb-3015df736ac5",
   "metadata": {},
   "outputs": [],
   "source": [
    "# Salvar os dados em txt. Retirando o index e colocando um delimitador(separador) para tab\n",
    "dados_csv.to_csv('dados3.txt', index = False, sep='\\t')"
   ]
  }
 ],
 "metadata": {
  "kernelspec": {
   "display_name": "Python 3 (ipykernel)",
   "language": "python",
   "name": "python3"
  },
  "language_info": {
   "codemirror_mode": {
    "name": "ipython",
    "version": 3
   },
   "file_extension": ".py",
   "mimetype": "text/x-python",
   "name": "python",
   "nbconvert_exporter": "python",
   "pygments_lexer": "ipython3",
   "version": "3.10.6"
  }
 },
 "nbformat": 4,
 "nbformat_minor": 5
}
